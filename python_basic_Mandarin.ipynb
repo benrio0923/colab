{
  "cells": [
    {
      "cell_type": "markdown",
      "metadata": {
        "id": "view-in-github",
        "colab_type": "text"
      },
      "source": [
        "<a href=\"https://colab.research.google.com/github/benrio0923/colab/blob/main/python_basic_Mandarin.ipynb\" target=\"_parent\"><img src=\"https://colab.research.google.com/assets/colab-badge.svg\" alt=\"Open In Colab\"/></a>"
      ]
    },
    {
      "cell_type": "markdown",
      "metadata": {
        "id": "He04KcnT2BC0"
      },
      "source": [
        "**Python basics I. Outline**\n",
        "\n",
        "1. Python basics\n",
        "2. Lists, tuples, and sets\n",
        "3. String\n",
        "4. Dictionaries"
      ]
    },
    {
      "cell_type": "markdown",
      "metadata": {
        "id": "jn9kheI02BC4"
      },
      "source": [
        "# 1. Python basics. Outline / Python 基礎教學大綱\n",
        "\n",
        "1. **Indenting and block structuring / 縮排與區塊結構**\n",
        "2. **Differentiating comments / 區分註解**\n",
        "3. **Variables and assignments / 變數與賦值**\n",
        "4. **Delete statement / 刪除語句**\n",
        "5. **Expressions / 表達式**\n",
        "6. **Strings / 字串**\n",
        "7. **Numbers and None / 數字與 None**\n",
        "8. **Getting user inputs / 獲取用戶輸入**\n",
        "9. **Pythonic style / Python 的編程風格**"
      ]
    },
    {
      "cell_type": "markdown",
      "metadata": {
        "id": "haEz_dsN2BC5"
      },
      "source": [
        "## Indentation and block structuring / 縮排與區塊結構\n",
        "\n",
        "* **縮排：每層使用四個空格，不使用 Tab 鍵**"
      ]
    },
    {
      "cell_type": "code",
      "execution_count": null,
      "metadata": {
        "id": "xi-ANKvb2BC5"
      },
      "outputs": [],
      "source": [
        "# print n in while loop\n",
        "n = 3\n",
        "i = 1\n",
        "while n > 0:\n",
        "    i = i * n\n",
        "    n = n - 1\n",
        "    print(n)"
      ]
    },
    {
      "cell_type": "code",
      "execution_count": null,
      "metadata": {
        "id": "zkpRl2EI2BC6"
      },
      "outputs": [],
      "source": [
        "# print n, after done with while loop\n",
        "n = 3\n",
        "i = 1\n",
        "while n > 0:\n",
        "    i = i * n\n",
        "    n = n - 1\n",
        "print(n)"
      ]
    },
    {
      "cell_type": "markdown",
      "metadata": {
        "id": "lbx1ntUj2BC6"
      },
      "source": [
        "* 以下是如何通過正確的縮排計算基因序列中的 GC 含量（G 和 C 核苷酸的百分比）："
      ]
    },
    {
      "cell_type": "code",
      "execution_count": null,
      "metadata": {
        "id": "3MgTwoBH2BC6"
      },
      "outputs": [],
      "source": [
        "sequence = \"ATGCTAGCTAGGCTA\"\n",
        "\n",
        "gc_count = 0\n",
        "for nucleotide in sequence:\n",
        "    if nucleotide == \"G\" or nucleotide == \"C\":\n",
        "        gc_count += 1\n",
        "\n",
        "gc_content = (gc_count / len(sequence)) * 100\n",
        "print(f\"GC Content: {gc_content}%\")\n"
      ]
    },
    {
      "cell_type": "markdown",
      "metadata": {
        "id": "Y__6KUMg2BC6"
      },
      "source": [
        "## Differentiating comments /區分註解"
      ]
    },
    {
      "cell_type": "code",
      "execution_count": null,
      "metadata": {
        "id": "UvMIXBtj2BC6"
      },
      "outputs": [],
      "source": [
        "x = 3 # Assign 3 to x\n",
        "x = 1 # Now x is 1\n",
        "x = \"# This is not a comment\"\n",
        "print(x)"
      ]
    },
    {
      "cell_type": "markdown",
      "metadata": {
        "id": "8WP-a_g82BC7"
      },
      "source": [
        "## Variables and assignments / 變數與賦值\n",
        "\n",
        "* **在 Python 中一切皆為物件。**\n",
        "* **Variables in python: buckets or labels?**    \n",
        "  概念是將 a、b 和 c 指派為列表 ```[1, 2, 3]```。因此，當 b 賦予不同值時，a 和 c 也會發生變化。"
      ]
    },
    {
      "cell_type": "code",
      "execution_count": null,
      "metadata": {
        "id": "YuIchHfg2BC7"
      },
      "outputs": [],
      "source": [
        "a = [1, 2, 3]\n",
        "b = a\n",
        "c = b\n",
        "print(a, b, c)\n",
        "b[1] = 5\n",
        "print(a, b, c)"
      ]
    },
    {
      "cell_type": "code",
      "execution_count": null,
      "metadata": {
        "id": "IhicJB882BC7"
      },
      "outputs": [],
      "source": [
        "a = 1\n",
        "b = a\n",
        "c = b\n",
        "print(a, b, c)\n",
        "b = 5\n",
        "print(a, b, c)"
      ]
    },
    {
      "cell_type": "code",
      "execution_count": null,
      "metadata": {
        "id": "OLa3uL2F2BC7"
      },
      "outputs": [],
      "source": [
        "# This is a gene sequence\n",
        "sequence = \"ATGCTAGCTAGGCTA\"\n",
        "\n",
        "# Calculate the total length of the gene sequence\n",
        "length = len(sequence)  # Length of the sequence\n",
        "\n",
        "# Output the length of the gene sequence\n",
        "print(f\"Length of the sequence: {length}\")\n",
        "\n",
        "# Count of 'A' in the sequence\n",
        "a_count = sequence.count('A')\n",
        "print(f\"Number of 'A' nucleotides: {a_count}\")"
      ]
    },
    {
      "cell_type": "markdown",
      "metadata": {
        "id": "OWlBkcFg2BC7"
      },
      "source": [
        "## Delete statement / 刪除語句\n",
        "\n",
        "* 當程式中出現錯誤時，會觸發traceback（或異常）。"
      ]
    },
    {
      "cell_type": "code",
      "execution_count": null,
      "metadata": {
        "id": "Jk5Vae_D2BC7"
      },
      "outputs": [],
      "source": [
        "sequence = \"ATGCTAGCTAGGCTA\"\n",
        "print(sequence)\n",
        "\n",
        "del sequence  # Deleting the variable after use\n",
        "print(sequence)  # This will cause an error as 'sequence' is deleted"
      ]
    },
    {
      "cell_type": "markdown",
      "metadata": {
        "id": "x5halFA72BC7"
      },
      "source": [
        "## Arithmetic Expressions / 算術表達式\n",
        "\n",
        "* **在 Python 中，執行除法運算會產生浮點數結果。**\n",
        "* **若要獲得去除小數部分的整數結果，可以使用 \"//\" 運算符來進行傳統的整數除法。**\n"
      ]
    },
    {
      "cell_type": "code",
      "execution_count": null,
      "metadata": {
        "id": "5TZCjm3P2BC8"
      },
      "outputs": [],
      "source": [
        "x = 5\n",
        "y = 7\n",
        "z = (x + y) / 2\n",
        "print(z)\n",
        "a = y / 2\n",
        "print(a)\n",
        "b = y // 2\n",
        "print(b)\n",
        "c = -y // 2\n",
        "print(c)"
      ]
    },
    {
      "cell_type": "code",
      "execution_count": null,
      "metadata": {
        "id": "u5biXpyK2BC8"
      },
      "outputs": [],
      "source": [
        "x = 2 + 4 * 5 - 6 / 3\n",
        "print(x)\n",
        "x = 2 + (4 * 5) - (6 / 3)\n",
        "print(x)"
      ]
    },
    {
      "cell_type": "markdown",
      "metadata": {
        "id": "yKLZuANz2BC8"
      },
      "source": [
        "## Strings / 字串\n",
        "\n",
        "* **可以用單引號（' '）、雙引號（\" \"）、三個單引號（''' '''）或三個雙引號（\"\"\" \"\"\"）來定界字串。**\n",
        "* **反斜線 (\\\\)** 可以用來**轉義具有特殊意義的字符**。\n"
      ]
    },
    {
      "cell_type": "code",
      "execution_count": null,
      "metadata": {
        "id": "YIOvtZPl2BC8"
      },
      "outputs": [],
      "source": [
        "x = \"\\tThis line starts with a \\\"tab\\\".\"\n",
        "print(x)\n",
        "x = \"Just print a single backslash(\\\\).\"\n",
        "print(x)"
      ]
    },
    {
      "cell_type": "markdown",
      "metadata": {
        "id": "uxkl4v462BC8"
      },
      "source": [
        "* **單引號與雙引號字串的區別**"
      ]
    },
    {
      "cell_type": "code",
      "execution_count": null,
      "metadata": {
        "id": "rr3wrnKd2BC8"
      },
      "outputs": [],
      "source": [
        "x = \"Hello, World\"\n",
        "print(x)\n",
        "x = 'Hello, World'\n",
        "print(x)\n",
        "x = 'Can\\'t print single quotation \\' by without a backslash'\n",
        "print(x)\n",
        "x = \"Can\\'t print double quotation \\\" by without a backslash\"\n",
        "print(x)\n",
        "x = 'Or just leave a double quotation \" alone'\n",
        "print(x)"
      ]
    },
    {
      "cell_type": "markdown",
      "metadata": {
        "id": "Rcg9bz2t2BC8"
      },
      "source": [
        "* **如果字串跨越兩行，則會發生程式錯誤。**"
      ]
    },
    {
      "cell_type": "code",
      "execution_count": null,
      "metadata": {
        "id": "Mv1awy4L2BC8"
      },
      "outputs": [],
      "source": [
        "x = \"Program error occurs if\n",
        "put a newline without using triple double quotation\""
      ]
    },
    {
      "cell_type": "markdown",
      "metadata": {
        "id": "n648RcKL2BC8"
      },
      "source": [
        "* **三引號字串允許在不使用反斜線的情況下包含單引號和雙引號。**\n",
        "* **Python 編程風格**：每行長度不應超過 80 個字符。"
      ]
    },
    {
      "cell_type": "code",
      "execution_count": null,
      "metadata": {
        "id": "bQu19itQ2BC8"
      },
      "outputs": [],
      "source": [
        "x = \"\"\"Triple-quoted strings allow to include single '\n",
        "and double quotes \"\n",
        "without backslashes.\"\"\"\n",
        "print(x)"
      ]
    },
    {
      "cell_type": "markdown",
      "metadata": {
        "id": "DqigHgfS2BC9"
      },
      "source": [
        "## Numbers and None / 數字與 None\n",
        "\n",
        "* **在 Python 中，有四種類型的數字：整數、浮點數、複數和布林值。**\n",
        "* **None 用來表示空值。**"
      ]
    },
    {
      "cell_type": "code",
      "execution_count": null,
      "metadata": {
        "id": "MWd6OFq52BC9"
      },
      "outputs": [],
      "source": [
        "None == False"
      ]
    },
    {
      "cell_type": "code",
      "execution_count": null,
      "metadata": {
        "id": "O-29YmMY2BC9"
      },
      "outputs": [],
      "source": [
        "None == 0"
      ]
    },
    {
      "cell_type": "markdown",
      "metadata": {
        "id": "g7VLbHeL2BC9"
      },
      "source": [
        "## Input() function to receive user input. / 使用 Input() 函數接收用戶輸入"
      ]
    },
    {
      "cell_type": "code",
      "execution_count": null,
      "metadata": {
        "id": "VAMVrw6L2BC9"
      },
      "outputs": [],
      "source": [
        "sequence = input(\"Please enter a gene sequence: \")\n",
        "# for example: ATGCTAGCTAGGCTA\n",
        "gc_content = (sequence.count('G') + sequence.count('C')) / len(sequence) * 100\n",
        "print(f\"GC content: {gc_content}%\")"
      ]
    },
    {
      "cell_type": "markdown",
      "metadata": {
        "id": "K4plZCAm2BC9"
      },
      "source": [
        "## Pythonic style / Python 的編程風格\n",
        "\n",
        "* **Python 增強提案 (PEP) 8：Python 的首選編程風格約定**\n",
        "* **www.python.org/dev/peps/pep-0008/**\n",
        "\n",
        "## 以下哪個變數和函數名稱符合 **Pythonic** 風格？\n",
        "    * LongVar\n",
        "    * long_var\n",
        "    * VERYVERYLONGVARNAME\n",
        "    * veryverylongvarname\n",
        "    * very_very_long_var_name"
      ]
    },
    {
      "cell_type": "markdown",
      "metadata": {
        "id": "kSVdU7Cc2BC9"
      },
      "source": [
        "## 簡要總結\n",
        "\n",
        "* **縮排**：每層四個空格，不使用 Tab 鍵\n",
        "* **在 Python 中一切皆為物件。**\n",
        "* **Python 中有四種類型的數字，包括整數、浮點數、複數和布林值。**\n",
        "* **Pythonic** 風格來自 Python 增強提案 (PEP) 8"
      ]
    },
    {
      "cell_type": "markdown",
      "metadata": {
        "id": "5WKsbpMP2BC9"
      },
      "source": [
        "# 2. Lists, tuples, and sets / 列表、元組和集合\n",
        "\n",
        "* **在 Python 中，有兩大主要的序列類型**\n",
        "    * **lists列表**：更靈活且功能強大\n",
        "    * **Tuples元組**：與列表類似，但**不能**修改。\n",
        "* **Sets集合**：用來表示物件在某個集合中的成員關係\n",
        "\n",
        "## Lists are like arrays / 列表類似於陣列\n",
        "\n",
        "* **使用方括號將逗號分隔的元素列表括起來**\n",
        "* **不需要在使用前指定列表的大小（或類別相同）。**"
      ]
    },
    {
      "cell_type": "code",
      "execution_count": null,
      "metadata": {
        "id": "-JtsDif62BC-"
      },
      "outputs": [],
      "source": [
        "x = [1, 2, 3]\n",
        "x = [2, \"two\", [1, 2, 3]]"
      ]
    },
    {
      "cell_type": "markdown",
      "metadata": {
        "id": "eBH_-8ce2BC-"
      },
      "source": [
        "### List length / 列表長度"
      ]
    },
    {
      "cell_type": "code",
      "execution_count": null,
      "metadata": {
        "id": "pjdXnsaD2BC-"
      },
      "outputs": [],
      "source": [
        "len([0])"
      ]
    },
    {
      "cell_type": "code",
      "execution_count": null,
      "metadata": {
        "id": "BGI18lMq2BC-"
      },
      "outputs": [],
      "source": [
        "len([])"
      ]
    },
    {
      "cell_type": "code",
      "execution_count": null,
      "metadata": {
        "id": "-2RJnb4h2BC-"
      },
      "outputs": [],
      "source": [
        "len([[2,1,[1,8],8],0])"
      ]
    },
    {
      "cell_type": "markdown",
      "metadata": {
        "id": "FNcitzZf2BC_"
      },
      "source": [
        "### List index / 列表索引"
      ]
    },
    {
      "cell_type": "code",
      "execution_count": null,
      "metadata": {
        "id": "UvfzBTbc2BC_"
      },
      "outputs": [],
      "source": [
        "x = [\"Zero\", \"1st\", \"2nd\", \"3rd\", \"4th\"]\n",
        "print(x[0]) # the index started from 0\n",
        "print(x[2])\n",
        "print(x[-1])"
      ]
    },
    {
      "cell_type": "markdown",
      "metadata": {
        "id": "d8d_bU482BC_"
      },
      "source": [
        "### List slicing / 列表切片"
      ]
    },
    {
      "cell_type": "code",
      "execution_count": null,
      "metadata": {
        "id": "KP_XQQjP2BC_"
      },
      "outputs": [],
      "source": [
        "x = [\"Zero\", \"1st\", \"2nd\", \"3rd\", \"4th\"]\n",
        "print(x[1:-1])\n",
        "print(x[0:4])\n",
        "print(x[-3:-1])\n",
        "print(x[-1:-3])\n",
        "print(x[:4])\n",
        "print(x[1:])"
      ]
    },
    {
      "cell_type": "code",
      "execution_count": null,
      "metadata": {
        "id": "esZMEuLN2BC_"
      },
      "outputs": [],
      "source": [
        "x = [\"Zero\", \"1st\", \"2nd\", \"3rd\", \"4th\"]\n",
        "start = 1\n",
        "length = 4\n",
        "print(x[start:start+length])"
      ]
    },
    {
      "cell_type": "markdown",
      "metadata": {
        "id": "kwC2SfNV2BC_"
      },
      "source": [
        "### Methods in Lists / 列表方法\n",
        "\n",
        "* insert()、append()、extend()、remove()"
      ]
    },
    {
      "cell_type": "code",
      "execution_count": null,
      "metadata": {
        "id": "k48xY8jP2BC_"
      },
      "outputs": [],
      "source": [
        "x = [2, 1, 1]\n",
        "x.insert(3, 8)\n",
        "print(x)\n",
        "x.insert(3, 8)\n",
        "print(x)\n",
        "y = 0\n",
        "x.append(y)\n",
        "print(x)\n",
        "z = [0]\n",
        "x.extend(z)\n",
        "print(x)\n",
        "x.remove(0) # remove the first one\n",
        "print(x)"
      ]
    },
    {
      "cell_type": "markdown",
      "metadata": {
        "id": "iHnFpp-12BC_"
      },
      "source": [
        "* sort()"
      ]
    },
    {
      "cell_type": "code",
      "execution_count": null,
      "metadata": {
        "id": "AJ--cxGK2BC_"
      },
      "outputs": [],
      "source": [
        "x = [2, 1, 1, 8, 8, 0, 0]\n",
        "x.sort()\n",
        "print(x)\n",
        "x.sort(reverse=True)\n",
        "print(x)"
      ]
    },
    {
      "cell_type": "code",
      "execution_count": null,
      "metadata": {
        "id": "b5BI3zio2BC_"
      },
      "outputs": [],
      "source": [
        "x = [\"hello\", \"world\", \"!\"]\n",
        "x.sort()\n",
        "print(x)"
      ]
    },
    {
      "cell_type": "code",
      "execution_count": null,
      "metadata": {
        "id": "f1UYvD1I2BC_"
      },
      "outputs": [],
      "source": [
        "x = [1, 2, 'hello', 3]\n",
        "x.sort()\n",
        "print(x)"
      ]
    },
    {
      "cell_type": "markdown",
      "metadata": {
        "id": "NuWQHmYO2BC_"
      },
      "source": [
        "### Customized function for sorting / 自訂排序函數\n",
        "\n",
        "* 函數命名使用**全小寫和下劃線**以提高可讀性（PEP8）"
      ]
    },
    {
      "cell_type": "code",
      "execution_count": null,
      "metadata": {
        "id": "mWwB27PP2BC_"
      },
      "outputs": [],
      "source": [
        "def compare_num_of_chars(string1):\n",
        "    return len(string1)"
      ]
    },
    {
      "cell_type": "code",
      "execution_count": null,
      "metadata": {
        "id": "fGxKbx2J2BDA"
      },
      "outputs": [],
      "source": [
        "word_list = [\"National\", \"Tsing\", \"Hua\", \"University\"]\n",
        "word_list.sort()\n",
        "print(word_list)"
      ]
    },
    {
      "cell_type": "code",
      "execution_count": null,
      "metadata": {
        "id": "c531PYb12BDA"
      },
      "outputs": [],
      "source": [
        "word_list = [\"National\", \"Tsing\", \"Hua\", \"University\"]\n",
        "word_list.sort(key=compare_num_of_chars)\n",
        "print(word_list)"
      ]
    },
    {
      "cell_type": "markdown",
      "metadata": {
        "id": "hn5SehzO2BDA"
      },
      "source": [
        "* 內建函數 `sorted()` **返回一個排序過的列表，而不改變原始列表。**"
      ]
    },
    {
      "cell_type": "code",
      "execution_count": null,
      "metadata": {
        "id": "UYsdEAYW2BDA"
      },
      "outputs": [],
      "source": [
        "x = [\"National\", \"Tsing\", \"Hua\", \"University\"]\n",
        "y = sorted(x)\n",
        "print(x)\n",
        "print(y)"
      ]
    },
    {
      "cell_type": "markdown",
      "metadata": {
        "id": "tzsHikIl2BDA"
      },
      "source": [
        "### More list operations / 更多列表操作\n",
        "\n",
        "* 使用 `in` 運算符檢查列表成員資格\n",
        "* [https://docs.python.org/3/tutorial/datastructures.html#more-on-lists](https://docs.python.org/3/tutorial/datastructures.html#more-on-lists)"
      ]
    },
    {
      "cell_type": "code",
      "execution_count": null,
      "metadata": {
        "id": "-Qny0Cle2BDA"
      },
      "outputs": [],
      "source": [
        "2 in [2, 1, 1, 8, 8, 0, 0]"
      ]
    },
    {
      "cell_type": "code",
      "execution_count": null,
      "metadata": {
        "id": "5VxsJ7VT2BDA"
      },
      "outputs": [],
      "source": [
        "2 not in [2, 1, 1, 8, 8, 0, 0]"
      ]
    },
    {
      "cell_type": "markdown",
      "metadata": {
        "id": "g8wBjXNI2BDA"
      },
      "source": [
        "* 使用 `min()` 和 `max()` 分別返回最小值和最大值"
      ]
    },
    {
      "cell_type": "code",
      "execution_count": null,
      "metadata": {
        "id": "wqmlen9G2BDA"
      },
      "outputs": [],
      "source": [
        "min([2, 1, 1, 8, 8, 0, 0])"
      ]
    },
    {
      "cell_type": "code",
      "execution_count": null,
      "metadata": {
        "id": "tBV4UhUy2BDA"
      },
      "outputs": [],
      "source": [
        "max([2, \"Hello\", [1, 1]])"
      ]
    },
    {
      "cell_type": "markdown",
      "metadata": {
        "id": "Ug8OV6YC2BDA"
      },
      "source": [
        "* 使用 `+` 運算符進行列表連接"
      ]
    },
    {
      "cell_type": "code",
      "execution_count": null,
      "metadata": {
        "id": "Ye2busFP2BDA"
      },
      "outputs": [],
      "source": [
        "x = [2, 1, 1] + [8, 8, 0, 0]\n",
        "print(x)"
      ]
    },
    {
      "cell_type": "markdown",
      "metadata": {
        "id": "xkROdFsT2BDA"
      },
      "source": [
        "* 使用 `*` 運算符初始化列表"
      ]
    },
    {
      "cell_type": "code",
      "execution_count": null,
      "metadata": {
        "id": "ifLJp-RJ2BDA"
      },
      "outputs": [],
      "source": [
        "x = [None] * 2\n",
        "print(x)"
      ]
    },
    {
      "cell_type": "code",
      "execution_count": null,
      "metadata": {
        "id": "BHjncclm2BDA"
      },
      "outputs": [],
      "source": [
        "x = [2, 1, 1] * 2\n",
        "print(x)"
      ]
    },
    {
      "cell_type": "markdown",
      "metadata": {
        "id": "3m7br4bu2BDA"
      },
      "source": [
        "* 使用 `index` 進行列表搜尋"
      ]
    },
    {
      "cell_type": "code",
      "execution_count": null,
      "metadata": {
        "id": "1mx31wZD2BDB"
      },
      "outputs": [],
      "source": [
        "x = [2, 1, 1, 8, 8, 0, 0]\n",
        "x.index(8)"
      ]
    },
    {
      "cell_type": "code",
      "execution_count": null,
      "metadata": {
        "id": "sQMhOh432BDB"
      },
      "outputs": [],
      "source": [
        "x.index(5)"
      ]
    },
    {
      "cell_type": "markdown",
      "metadata": {
        "id": "0kmeaYsn2BDB"
      },
      "source": [
        "* 使用 `count` 進行列表匹配"
      ]
    },
    {
      "cell_type": "code",
      "execution_count": null,
      "metadata": {
        "id": "dZPwQ96I2BDB"
      },
      "outputs": [],
      "source": [
        "x = [2, 1, 1, 8, 8, 0, 0]\n",
        "x.count(2)"
      ]
    },
    {
      "cell_type": "code",
      "execution_count": null,
      "metadata": {
        "id": "QOlL_N7K2BDB"
      },
      "outputs": [],
      "source": [
        "x.count(5)"
      ]
    },
    {
      "cell_type": "markdown",
      "metadata": {
        "id": "4cgqvu1h2BDB"
      },
      "source": [
        "* 使用列表處理基因序列的範例："
      ]
    },
    {
      "cell_type": "code",
      "execution_count": null,
      "metadata": {
        "id": "3-P-aaVZ2BDB"
      },
      "outputs": [],
      "source": [
        "# List of gene sequences from different variants\n",
        "sequences = [\"ATGCTAGC\", \"CGTACGTC\", \"GCTAGCTA\"]\n",
        "\n",
        "# Accessing elements in the list (first sequence)\n",
        "print(f\"First sequence: {sequences[0]}\")\n",
        "\n",
        "# Adding a new sequence to the list\n",
        "sequences.append(\"TTGACCTA\")\n",
        "print(f\"Updated sequences: {sequences}\")\n",
        "\n",
        "# Lists can contain sequences of different lengths and types\n",
        "sequences = [\"ATGCTAGC\", 12345, [\"CGTACGTC\", \"GCTAGCTA\"]]\n",
        "print(f\"Complex list: {sequences}\")"
      ]
    },
    {
      "cell_type": "markdown",
      "metadata": {
        "id": "rTfMbVj32BDB"
      },
      "source": [
        "## Tuple / 元組\n",
        "\n",
        "* **與列表類似**，但**不能被修改**。\n",
        "    * list列表是用 `[ ]` 括起來的序列。\n",
        "    * tuple元組是用 `( )` 括起來的序列。\n",
        "* **為什麼要有兩者呢?**。\n",
        "    * **元組不能像列表那樣高效填充**，例如: **keys for dictionaries**。"
      ]
    },
    {
      "cell_type": "markdown",
      "metadata": {
        "id": "RmtZHmwn2BDB"
      },
      "source": [
        "* 使用元組tuple的方式與使用列表list非常相似。"
      ]
    },
    {
      "cell_type": "code",
      "execution_count": null,
      "metadata": {
        "id": "PI-Ddq7q2BDB"
      },
      "outputs": [],
      "source": [
        "x = ('zero', '1st', '2nd', '3rd', '4th')\n",
        "print(x[2])\n",
        "print(x[1:])\n",
        "print(len(x))\n",
        "print(max(x))\n",
        "print(min(x))"
      ]
    },
    {
      "cell_type": "code",
      "execution_count": null,
      "metadata": {
        "id": "etPTst8H2BDB"
      },
      "outputs": [],
      "source": [
        "'1st' in x"
      ]
    },
    {
      "cell_type": "code",
      "execution_count": null,
      "metadata": {
        "id": "_tq6a5VZ2BDB"
      },
      "outputs": [],
      "source": [
        "'1st' not in x"
      ]
    },
    {
      "cell_type": "markdown",
      "metadata": {
        "id": "xpXXFcBD2BDB"
      },
      "source": [
        "* 元組tuple和列表list的主要區別在於**元組tuple是不可變的**。"
      ]
    },
    {
      "cell_type": "code",
      "execution_count": null,
      "metadata": {
        "id": "6x2tFP0C2BDB"
      },
      "outputs": [],
      "source": [
        "x[2] = 'two'"
      ]
    },
    {
      "cell_type": "code",
      "execution_count": null,
      "metadata": {
        "id": "yDCm5RDM2BDB"
      },
      "outputs": [],
      "source": [
        "# Create tuples from existing ones by using the + and * operators\n",
        "print(x + x)\n",
        "print(2 * x)"
      ]
    },
    {
      "cell_type": "markdown",
      "metadata": {
        "id": "-7bXI_mb2BDB"
      },
      "source": [
        "* 打包和解包元組，從賦值運算符的右側接收對應的值"
      ]
    },
    {
      "cell_type": "code",
      "execution_count": null,
      "metadata": {
        "id": "Z_w7Ru-v2BDB"
      },
      "outputs": [],
      "source": [
        "(one, two, three, four, five) = (1, 2, 3, 4, 5)\n",
        "print(one)\n",
        "print(four)"
      ]
    },
    {
      "cell_type": "markdown",
      "metadata": {
        "id": "Rej6lCxU2BDB"
      },
      "source": [
        "* 在 Python 中，**一行代碼**可以取代多行代碼，例如，**var1, var2, var3, var4, var5 = value1, value2, value3, value4, value5**\n",
        "* 概念是**打包 (1, 2, 3, 4, 5)，然後解包並賦值。**"
      ]
    },
    {
      "cell_type": "code",
      "execution_count": null,
      "metadata": {
        "id": "IHdjCOFH2BDB"
      },
      "outputs": [],
      "source": [
        "# not only tuple, but also sequence type (e.g., list ans string)\n",
        "var1, var2, var3, var4, var5 = [1, 2, 3, 4, 5] # list\n",
        "print(var5)\n",
        "var1, var2, var3, var4, var5 = 'fifth' # string\n",
        "print(var5)"
      ]
    },
    {
      "cell_type": "code",
      "execution_count": null,
      "metadata": {
        "id": "bs8VmQid2BDB"
      },
      "outputs": [],
      "source": [
        "var1, var2, var3 =  1, 2, 3, 4 # too many values to unpack"
      ]
    },
    {
      "cell_type": "markdown",
      "metadata": {
        "id": "IlWl9JYT2BDB"
      },
      "source": [
        "* **擴展解包功能**，允許用 `*` 標記的元素吸收與其他元素不匹配的任意數量的元素"
      ]
    },
    {
      "cell_type": "code",
      "execution_count": null,
      "metadata": {
        "id": "upzHYXG62BDC"
      },
      "outputs": [],
      "source": [
        "a, b, *c  = (1, 2, 3, 4)\n",
        "print(a, b, c)\n",
        "a, *b, c  = (1, 2, 3, 4)\n",
        "print(a, b, c)\n",
        "a, b, *_  = (1, 2, 3, 4, 5, 6) # star with underscore will collect the rest\n",
        "print(a, b, *_)"
      ]
    },
    {
      "cell_type": "markdown",
      "metadata": {
        "id": "rPjPYx2S2BDC"
      },
      "source": [
        "### Converting between lists and tuples / 轉換列表和元組之間"
      ]
    },
    {
      "cell_type": "code",
      "execution_count": null,
      "metadata": {
        "id": "mcIftXeZ2BDC"
      },
      "outputs": [],
      "source": [
        "x = (1, 2, 3)\n",
        "print(list(x))\n",
        "print(tuple([1, 2, 3]))"
      ]
    },
    {
      "cell_type": "code",
      "execution_count": null,
      "metadata": {
        "id": "l8T_DvRi2BDC"
      },
      "outputs": [],
      "source": [
        "print(list(\"NTHU\"))"
      ]
    },
    {
      "cell_type": "markdown",
      "metadata": {
        "id": "An_ZQKEn2BDC"
      },
      "source": [
        "### 練習\n",
        "\n",
        "* 嘗試解釋以下操作對於元組tuple `x = (1, 2, 3)` 是不允許的。"
      ]
    },
    {
      "cell_type": "code",
      "execution_count": null,
      "metadata": {
        "id": "oYCrC35J2BDC"
      },
      "outputs": [],
      "source": [
        "x = (1, 2, 3)\n",
        "x.append(4)"
      ]
    },
    {
      "cell_type": "code",
      "execution_count": null,
      "metadata": {
        "id": "IlCDUdJB2BDC"
      },
      "outputs": [],
      "source": [
        "x[0] = \"hello\""
      ]
    },
    {
      "cell_type": "code",
      "execution_count": null,
      "metadata": {
        "id": "2Pf-Qmw42BDC"
      },
      "outputs": [],
      "source": [
        "del x[1]"
      ]
    },
    {
      "cell_type": "markdown",
      "metadata": {
        "id": "Og9f5GHH2BDC"
      },
      "source": [
        "* 我們可以對元組tuple `x = (2, 1, 1, 8, 8, 0, 0)` 使用 `sorted()` 嗎？"
      ]
    },
    {
      "cell_type": "code",
      "execution_count": null,
      "metadata": {
        "id": "yaiGCIZm2BDC"
      },
      "outputs": [],
      "source": [
        "x = (2, 1, 1, 8, 8, 0, 0)\n",
        "x = sorted(x) # This function returns \"a sorted list\" of \"an iterable object\".\n",
        "print(x)"
      ]
    },
    {
      "cell_type": "markdown",
      "metadata": {
        "id": "J8bvpDgD2BDC"
      },
      "source": [
        "### Pythonic v.s. Unpythonic\n",
        "\n",
        "* Example 1. (Not good)"
      ]
    },
    {
      "cell_type": "code",
      "execution_count": null,
      "metadata": {
        "id": "fXrOOBld2BDC"
      },
      "outputs": [],
      "source": [
        "tmp = a\n",
        "a =  b\n",
        "b = tmp"
      ]
    },
    {
      "cell_type": "markdown",
      "metadata": {
        "id": "6sFLQcNO2BDC"
      },
      "source": [
        "* Example 2."
      ]
    },
    {
      "cell_type": "code",
      "execution_count": null,
      "metadata": {
        "id": "JgzrMhIB2BDC"
      },
      "outputs": [],
      "source": [
        "def get_user_info(id):\n",
        "    name=\"jack\"\n",
        "    age=\"5\"\n",
        "    email=\"jack@nthu\"\n",
        "    return name, age, email\n",
        "info = get_user_info(id)\n",
        "print(\"name\", info[0])\n",
        "print(\"age\", info[1])\n",
        "print(\"email\", info[2])"
      ]
    },
    {
      "cell_type": "code",
      "execution_count": null,
      "metadata": {
        "id": "W6JR2Zpb2BDC"
      },
      "outputs": [],
      "source": [
        "def get_user_info(id):\n",
        "    name=\"jack\"\n",
        "    age=\"5\"\n",
        "    email=\"jack@nthu\"\n",
        "    return name, age, email\n",
        "name, age, email = get_user_info(id)\n",
        "print(\"name\", name)\n",
        "print(\"age\", age)\n",
        "print(\"email\", email)"
      ]
    },
    {
      "cell_type": "markdown",
      "metadata": {
        "id": "NECVoXwb2BDC"
      },
      "source": [
        "* Example 3. (Not good)"
      ]
    },
    {
      "cell_type": "code",
      "execution_count": null,
      "metadata": {
        "id": "-tl4LUeI2BDC"
      },
      "outputs": [],
      "source": [
        "if b > 10 and b <= a and a <= 20:\n",
        "    pass"
      ]
    },
    {
      "cell_type": "code",
      "execution_count": null,
      "metadata": {
        "id": "Sp9rIpUK2BDC"
      },
      "outputs": [],
      "source": [
        "if 10 < b <= a <= 20:\n",
        "    pass"
      ]
    },
    {
      "cell_type": "markdown",
      "metadata": {
        "id": "GRvZFNZ22BDC"
      },
      "source": [
        "* However, not always simple is better, for example:"
      ]
    },
    {
      "cell_type": "code",
      "execution_count": null,
      "metadata": {
        "id": "yh-f5rfm2BDC"
      },
      "outputs": [],
      "source": [
        "math.sqrt(sum(pow(x-sum(data) / len(data)), 2) for x in data) / len(data)"
      ]
    },
    {
      "cell_type": "code",
      "execution_count": null,
      "metadata": {
        "id": "yzMy0ik42BDD"
      },
      "outputs": [],
      "source": [
        "# This one is more better\n",
        "mean = sum(data) / len(data)\n",
        "variance = sum(pow(x-mean, 2) for x in data) / len(data)\n",
        "std = math.sqrt(variance)"
      ]
    },
    {
      "cell_type": "markdown",
      "metadata": {
        "id": "LhyW_HGn2BDD"
      },
      "source": [
        "* 使用元組來存儲不可變的基因序列數據的範例："
      ]
    },
    {
      "cell_type": "code",
      "execution_count": null,
      "metadata": {
        "id": "i-DhcV1U2BDD"
      },
      "outputs": [],
      "source": [
        "# Tuple of conserved regions in the genome\n",
        "conserved_regions = (\"ATGCTAGC\", \"CGTACGTC\", \"GCTAGCTA\")\n",
        "\n",
        "# Accessing elements in the tuple (first conserved region)\n",
        "print(f\"First conserved region: {conserved_regions[0]}\")\n",
        "\n",
        "# Tuples cannot be modified, so attempting to change an element will raise an error\n",
        "conserved_regions[0] = \"TTGACCTA\"  # This would raise an error"
      ]
    },
    {
      "cell_type": "markdown",
      "metadata": {
        "id": "l2VELsS92BDD"
      },
      "source": [
        "## Sets"
      ]
    },
    {
      "cell_type": "markdown",
      "metadata": {
        "id": "fuF200GU2BDD"
      },
      "source": [
        "* 在 Python 中，集合是**一種無序的物件集合，具有成員資格和唯一性**。\n",
        "* **與字典中的key類似，集合中的項目必須是不可變和可哈希的**。這意味著**整數、浮點數、字串和元組**可以是集合的成員，但**列表、字典和集合**本身則不行。"
      ]
    },
    {
      "cell_type": "markdown",
      "metadata": {
        "id": "gaWtVbqn2BDD"
      },
      "source": [
        "### Add and remove element(s) in a set"
      ]
    },
    {
      "cell_type": "code",
      "execution_count": null,
      "metadata": {
        "id": "zLms0kPW2BDD"
      },
      "outputs": [],
      "source": [
        "x = set([2, 1, 1, 8, 8, 0])\n",
        "print(x)\n",
        "x.add(0)\n",
        "print(x)\n",
        "x.remove(2)\n",
        "print(x)"
      ]
    },
    {
      "cell_type": "code",
      "execution_count": null,
      "metadata": {
        "id": "6GxXDFtN2BDD"
      },
      "outputs": [],
      "source": [
        "print(1 in x)\n",
        "print(4 in x)"
      ]
    },
    {
      "cell_type": "markdown",
      "metadata": {
        "id": "ofPWn82B2BDD"
      },
      "source": [
        "* More operations\n",
        "    * `|` : 兩個集合的聯集（或組合）\n",
        "    * `&` : 交集\n",
        "    * `^` : 對稱差異（**元素存在於其中一個集合或另一個集合中，但不在兩者中**）"
      ]
    },
    {
      "cell_type": "code",
      "execution_count": null,
      "metadata": {
        "id": "2xd5w5-X2BDD"
      },
      "outputs": [],
      "source": [
        "x = set([2, 1, 1, 8])\n",
        "y = set([8, 0, 0])\n",
        "print(x | y)\n",
        "print(x & y)\n",
        "print(x ^ y)"
      ]
    },
    {
      "cell_type": "markdown",
      "metadata": {
        "id": "cWRXpbQy2BDD"
      },
      "source": [
        "### Frozensets / 凍結集合\n",
        "\n",
        "* 因為**集合不是不可變且不可哈希的**，所以**不能成為其他集合的成員**。\n",
        "* 為了解決這個問題，Python 有另一種類型的集合，**frozenset**，它與集合類似，但創建後不能被修改。"
      ]
    },
    {
      "cell_type": "code",
      "execution_count": null,
      "metadata": {
        "id": "KSVVzzSI2BDD"
      },
      "outputs": [],
      "source": [
        "x = set([2, 1, 1, 8, 8, 0, 0])\n",
        "z = frozenset(x)\n",
        "print(z)"
      ]
    },
    {
      "cell_type": "code",
      "execution_count": null,
      "metadata": {
        "id": "Jnd7Utxz2BDD"
      },
      "outputs": [],
      "source": [
        "z.add(6)"
      ]
    },
    {
      "cell_type": "code",
      "execution_count": null,
      "metadata": {
        "id": "Mv8xRUzJ2BDD"
      },
      "outputs": [],
      "source": [
        "x.add(z)\n",
        "print(x)"
      ]
    },
    {
      "cell_type": "markdown",
      "metadata": {
        "id": "yjzkQSxi2BDD"
      },
      "source": [
        "* 集合：用於存儲唯一的元素，例如病毒基因組中的獨特突變。\n",
        "* Using sets to remove duplicate mutations: / 使用集合去除重複突變的範例："
      ]
    },
    {
      "cell_type": "code",
      "execution_count": null,
      "metadata": {
        "id": "ndbGbv8T2BDD"
      },
      "outputs": [],
      "source": [
        "# Set of mutations in a SARS-CoV-2 sequence (duplicates are automatically removed)\n",
        "mutations = {\"A123T\", \"G456C\", \"T789G\", \"A123T\"}  # \"A123T\" appears twice but will be stored only once\n",
        "\n",
        "print(f\"Unique mutations: {mutations}\")\n",
        "\n",
        "# Adding a new mutation\n",
        "mutations.add(\"C999A\")\n",
        "print(f\"Updated mutations: {mutations}\")\n",
        "\n",
        "# Checking if a mutation is present\n",
        "print(\"A123T\" in mutations)  # True"
      ]
    },
    {
      "cell_type": "markdown",
      "metadata": {
        "id": "-Nhzyphz2BDD"
      },
      "source": [
        "## Summary\n",
        "\n",
        "* **列表和元組** 是體現 **元素序列** 概念的結構，**字串** 也是如此。\n",
        "* **列表類似於其他語言中的陣列**，**但具有自動調整大小、切片表示法和許多便利函數**。\n",
        "* **元組** 是 **類似於列表但不能被修改** 的結構，因此 **它們使用更少的記憶體並且可以作為字典的鍵**。\n",
        "* **集合是可迭代的集合**，但它們是 **無序的並且不能有重複元素**。"
      ]
    },
    {
      "cell_type": "markdown",
      "metadata": {
        "id": "gCPE-rUk2BDD"
      },
      "source": [
        "# 3. String. Outline / 字串\n",
        "\n",
        "1. Strings as sequences of characters / 字串作為字符序列\n",
        "2. Basic string operations / 基本字串操作\n",
        "3. Special characters and escape sequences / 特殊字符和轉義序列\n",
        "4. String methods / 字串方法\n",
        "5. Converting from objects to strings / 將物件轉換為字串"
      ]
    },
    {
      "cell_type": "markdown",
      "metadata": {
        "id": "V6yQH9-f2BDD"
      },
      "source": [
        "## Strings as sequences of characters\n",
        "\n",
        "* Use index or slice notation: / 使用索引或切片表示法："
      ]
    },
    {
      "cell_type": "code",
      "execution_count": null,
      "metadata": {
        "id": "E3wgYFcb2BDD"
      },
      "outputs": [],
      "source": [
        "x = \"Hello\"\n",
        "print(x[0])\n",
        "print(x[-1])\n",
        "print(x[1:])"
      ]
    },
    {
      "cell_type": "code",
      "execution_count": null,
      "metadata": {
        "id": "O0-S2VVc2BDD"
      },
      "outputs": [],
      "source": [
        "x = \"Hello\\tWorld\"\n",
        "x = x[:-1]\n",
        "print(x)"
      ]
    },
    {
      "cell_type": "code",
      "execution_count": null,
      "metadata": {
        "id": "abwe5lZm2BDD"
      },
      "outputs": [],
      "source": [
        "# A gene sequence as a string\n",
        "sequence = \"ATGCTAGCTAGGCTA\"\n",
        "\n",
        "# Access individual nucleotides by index\n",
        "first_nucleotide = sequence[0]\n",
        "last_nucleotide = sequence[-1]\n",
        "\n",
        "print(f\"First nucleotide: {first_nucleotide}\")\n",
        "print(f\"Last nucleotide: {last_nucleotide}\")"
      ]
    },
    {
      "cell_type": "markdown",
      "metadata": {
        "id": "vdCb-DgF2BDE"
      },
      "source": [
        "## Basic string operations / 基本字串操作\n",
        "\n",
        "* Combine strings\n",
        "    * 字串連接運算符 `+`\n",
        "    * 字串重複運算符 `*`"
      ]
    },
    {
      "cell_type": "code",
      "execution_count": null,
      "metadata": {
        "id": "WwvWidId2BDE"
      },
      "outputs": [],
      "source": [
        "x = \"Hello\\t\" + \"World\"\n",
        "print(x)\n",
        "print(8 * x)"
      ]
    },
    {
      "cell_type": "markdown",
      "metadata": {
        "id": "ZKqUp6ce2BDE"
      },
      "source": [
        "* 你可以連接、重複或切片字串。例如，你可以連接基因序列或提取子序列。"
      ]
    },
    {
      "cell_type": "code",
      "execution_count": null,
      "metadata": {
        "id": "vnllWxhc2BDE"
      },
      "outputs": [],
      "source": [
        "# Concatenate two gene sequences\n",
        "sequence1 = \"ATGCTAGC\"\n",
        "sequence2 = \"GCTAGCTA\"\n",
        "combined_sequence = sequence1 + sequence2\n",
        "print(f\"Combined sequence: {combined_sequence}\")\n",
        "\n",
        "# Repeat a sequence multiple times\n",
        "repeated_sequence = sequence1 * 3\n",
        "print(f\"Repeated sequence: {repeated_sequence}\")\n",
        "\n",
        "# Slice a portion of the gene sequence\n",
        "sub_sequence = sequence1[2:6]\n",
        "print(f\"Sliced sequence: {sub_sequence}\")"
      ]
    },
    {
      "cell_type": "markdown",
      "metadata": {
        "id": "iv7KPpML2BDE"
      },
      "source": [
        "## Special characters and escape sequences / 特殊字符和轉義序列\n",
        "\n",
        "* 字串中的雙字符轉義序列（[Python 文檔](https://docs.python.org/3/reference/lexical_analysis.html)）。\n"
      ]
    },
    {
      "cell_type": "markdown",
      "metadata": {
        "id": "WhMNBcCm2BDE"
      },
      "source": [
        "### 打印和評估具有特殊字符的字串\n",
        "\n",
        "* What's the difference?\n",
        "    * 互動式地評估 Python 表達式\n",
        "    * 打印 Python 表達式的結果"
      ]
    },
    {
      "cell_type": "code",
      "execution_count": null,
      "metadata": {
        "id": "N4-pA1qk2BDE"
      },
      "outputs": [],
      "source": [
        "x='Hello\\tWorld'\n",
        "x\n",
        "print(\"using print():\"+x)"
      ]
    },
    {
      "cell_type": "code",
      "execution_count": null,
      "metadata": {
        "id": "1n6ae6Fr2BDE"
      },
      "outputs": [],
      "source": [
        "print(\"using print():Hello\\tWorld\")\n",
        "print(\"using print():Hello\\tWorld\", end=\"*\")"
      ]
    },
    {
      "cell_type": "markdown",
      "metadata": {
        "id": "ENMx4x4s2BDE"
      },
      "source": [
        "## String methods / 字串方法\n",
        "\n",
        "* 內建函數\n",
        "    * 用法：`string.method()`\n",
        "\n",
        "### Split and join string methods / 切割和連接字串方法\n",
        "\n",
        "* `split` 默認使用空白字符作為分隔符"
      ]
    },
    {
      "cell_type": "code",
      "execution_count": null,
      "metadata": {
        "id": "PXZGjZkn2BDE"
      },
      "outputs": [],
      "source": [
        "print(\" \".join([\"join\", \"with\", \"spaces\"]))"
      ]
    },
    {
      "cell_type": "code",
      "execution_count": null,
      "metadata": {
        "id": "xjk9WjIw2BDE"
      },
      "outputs": [],
      "source": [
        "print(\"::\".join([\"join\", \"with\", \"colons\"]))"
      ]
    },
    {
      "cell_type": "code",
      "execution_count": null,
      "metadata": {
        "id": "QC8vthUe2BDE"
      },
      "outputs": [],
      "source": [
        "print(\"\".join([\"join\", \"with\", \"nothing\"]))"
      ]
    },
    {
      "cell_type": "markdown",
      "metadata": {
        "id": "MAqBkqfN2BDE"
      },
      "source": [
        "* `split` function\n",
        "    * **`split` 默認會根據任何空白字符進行切割**，而不僅僅是單個空格字符。"
      ]
    },
    {
      "cell_type": "code",
      "execution_count": null,
      "metadata": {
        "id": "xJyGxLS02BDE"
      },
      "outputs": [],
      "source": [
        "x = \"You\\t\\t can have tabs\\t\\n \\t and newlines \\n\\n mixed in\"\n",
        "print(x.split())\n",
        "print(x.split(\"newlines\"))"
      ]
    },
    {
      "cell_type": "markdown",
      "metadata": {
        "id": "8skWwDJT2BDE"
      },
      "source": [
        "* 指定 `split` 應該執行多少次切割"
      ]
    },
    {
      "cell_type": "code",
      "execution_count": null,
      "metadata": {
        "id": "aOJk6eFl2BDE"
      },
      "outputs": [],
      "source": [
        "x = 'a b c d'\n",
        "print(x.split(' ', 1))\n",
        "print(x.split(' ', 2)) # split string twice\n",
        "print(x.split(' ', 3))\n",
        "print(x.split(' ', 4))"
      ]
    },
    {
      "cell_type": "markdown",
      "metadata": {
        "id": "h7dkYSp92BDE"
      },
      "source": [
        "* 字串方法對於分析和處理基因序列非常有用。常用的方法包括 `count()`、`replace()`、`find()` 和 `split()`。"
      ]
    },
    {
      "cell_type": "code",
      "execution_count": null,
      "metadata": {
        "id": "NT2Jrx6F2BDE"
      },
      "outputs": [],
      "source": [
        "sequence = \"ATGCTAGCTAGGCTA\"\n",
        "\n",
        "# Count the occurrences of a specific nucleotide (e.g., A)\n",
        "a_count = sequence.count(\"A\")\n",
        "print(f\"Number of 'A' nucleotides: {a_count}\")\n",
        "\n",
        "# Replace all occurrences of one nucleotide with another (mutation simulation)\n",
        "mutated_sequence = sequence.replace(\"A\", \"T\")\n",
        "print(f\"Mutated sequence: {mutated_sequence}\")\n",
        "\n",
        "# Find the position of a specific subsequence\n",
        "position = sequence.find(\"GCT\")\n",
        "print(f\"Position of 'GCT' in the sequence: {position}\")"
      ]
    },
    {
      "cell_type": "markdown",
      "metadata": {
        "id": "QMkTkpci2BDE"
      },
      "source": [
        "### 將字串轉換為數字\n",
        "\n",
        "* 使用 `int` 和 `float` 函數將字串分別轉換為整數和浮點數\n",
        "* 可選的第二個參數：通過指定數字基數來解釋輸入的字串"
      ]
    },
    {
      "cell_type": "code",
      "execution_count": null,
      "metadata": {
        "id": "O_3009_S2BDE"
      },
      "outputs": [],
      "source": [
        "print(float('123.456'))"
      ]
    },
    {
      "cell_type": "code",
      "execution_count": null,
      "metadata": {
        "id": "NzvCmeZC2BDE"
      },
      "outputs": [],
      "source": [
        "print(float('xxyy'))"
      ]
    },
    {
      "cell_type": "code",
      "execution_count": null,
      "metadata": {
        "id": "yt8Yt3_M2BDE"
      },
      "outputs": [],
      "source": [
        "int('3333')"
      ]
    },
    {
      "cell_type": "code",
      "execution_count": null,
      "metadata": {
        "id": "h6S5h33t2BDE"
      },
      "outputs": [],
      "source": [
        "int('123.456')"
      ]
    },
    {
      "cell_type": "code",
      "execution_count": null,
      "metadata": {
        "id": "QwMIYmlE2BDF"
      },
      "outputs": [],
      "source": [
        "print(int('10000', 8)) # Interprets 10000 as octal number\n",
        "print(int('101', 2))\n",
        "print(int('ff', 16))"
      ]
    },
    {
      "cell_type": "code",
      "execution_count": null,
      "metadata": {
        "id": "D4-flb542BDF"
      },
      "outputs": [],
      "source": [
        "# you will never get the digit \"6\" in a base 6 number.\n",
        "print(int('123456', 6))"
      ]
    },
    {
      "cell_type": "markdown",
      "metadata": {
        "id": "Ug_b0n0N2BDF"
      },
      "source": [
        "### 去除多餘的空白字符\n",
        "\n",
        "* `strip`、`lstrip` 和 `rstrip` 函數。\n",
        "    * 返回一個新的字串，與原始字串相同，但去除了字串開頭或結尾的空白字符"
      ]
    },
    {
      "cell_type": "code",
      "execution_count": null,
      "metadata": {
        "id": "3IldKacA2BDF"
      },
      "outputs": [],
      "source": [
        "x = \"\\t\\t  Hello, World\\t\\t  \"\n",
        "print(x)\n",
        "print(x.strip())\n",
        "print(x.lstrip())\n",
        "print(x.rstrip())"
      ]
    },
    {
      "cell_type": "markdown",
      "metadata": {
        "id": "jm-lg9n32BDF"
      },
      "source": [
        "* 查找 Python 認為的空白字符​"
      ]
    },
    {
      "cell_type": "code",
      "execution_count": null,
      "metadata": {
        "id": "HRxUnKG52BDF"
      },
      "outputs": [],
      "source": [
        "import string\n",
        "string.whitespace"
      ]
    },
    {
      "cell_type": "markdown",
      "metadata": {
        "id": "0qaf9CBj2BDF"
      },
      "source": [
        "* `strip` 函數用於移除字串中的所有指定字符"
      ]
    },
    {
      "cell_type": "code",
      "execution_count": null,
      "metadata": {
        "id": "YhqPiS_u2BDF"
      },
      "outputs": [],
      "source": [
        "x = \"www.python.org\"\n",
        "print(x.strip(\"w\")) # Strips off all ws\n",
        "print(x.strip(\"gor\")) # Strips off all gs, os, and rs\n",
        "print(x.strip(\".gorw\")) # Strips off all dots, gs, os, rs and ws\n",
        "print(x.strip(\".gorwh\")) # Strips off all dots, gs, os, rs and ws"
      ]
    },
    {
      "cell_type": "code",
      "execution_count": null,
      "metadata": {
        "id": "Q6oxPuYt2BDF"
      },
      "outputs": [],
      "source": [
        "x=\"(name, date),\\n\" ## be carefull \"\\n\"\n",
        "print(x.strip(\"),\\n\"))\n",
        "print(x.strip(\"\\n)(,\"))"
      ]
    },
    {
      "cell_type": "code",
      "execution_count": null,
      "metadata": {
        "id": "3mwr8XPp2BDF"
      },
      "outputs": [],
      "source": [
        "state = \"Mississippi\"\n",
        "print(state.strip(\"i\"))\n",
        "print(state.strip(\"M\"))\n",
        "print(state.strip(\"s\"))"
      ]
    },
    {
      "cell_type": "markdown",
      "metadata": {
        "id": "qHonN3Vt2BDF"
      },
      "source": [
        "### 字串搜尋\n",
        "\n",
        "* 四種基本的字串搜尋方法類似：**`find`、`rfind`、`index` 和 `rindex`**。"
      ]
    },
    {
      "cell_type": "code",
      "execution_count": null,
      "metadata": {
        "id": "ueP4CQs32BDF"
      },
      "outputs": [],
      "source": [
        "x = \"Hello world\"\n",
        "\"Hello\" in x"
      ]
    },
    {
      "cell_type": "code",
      "execution_count": null,
      "metadata": {
        "id": "j6O-kex52BDF"
      },
      "outputs": [],
      "source": [
        "x.find(\"Hello\")"
      ]
    },
    {
      "cell_type": "code",
      "execution_count": null,
      "metadata": {
        "id": "JZcenvw_2BDF"
      },
      "outputs": [],
      "source": [
        "x.find(\"world\")"
      ]
    },
    {
      "cell_type": "markdown",
      "metadata": {
        "id": "1PEthr_x2BDF"
      },
      "source": [
        "* Optional arguments / 可選參數\n",
        "    * 忽略字串中 `start` 位置之前的所有字符\n",
        "    * 忽略字串中 `end` 位置及其之後的所有字符"
      ]
    },
    {
      "cell_type": "code",
      "execution_count": null,
      "metadata": {
        "id": "hkll8P--2BDF"
      },
      "outputs": [],
      "source": [
        "x = \"Mississippi\"\n",
        "print(x.find(\"ss\", 4)) # started from an index of 4\n",
        "print(x.find(\"ss\", 0, 4)) # no hit found"
      ]
    },
    {
      "cell_type": "markdown",
      "metadata": {
        "id": "ppQkaQ212BDF"
      },
      "source": [
        "* **`rfind`**\n",
        "    * 從字串的末尾開始搜尋"
      ]
    },
    {
      "cell_type": "code",
      "execution_count": null,
      "metadata": {
        "id": "7zckldNc2BDF"
      },
      "outputs": [],
      "source": [
        "x = \"Mississippi\"\n",
        "print(x.rfind(\"ss\"))\n",
        "print(x.rfind(\"p\"))\n",
        "print(x.rfind(\"pp\"))"
      ]
    },
    {
      "cell_type": "markdown",
      "metadata": {
        "id": "BF7CjYCs2BDF"
      },
      "source": [
        "* **`index` 和 `rindex`** 與 **`find` 和 `rfind`** 分別相同\n",
        "* **唯一的區別**\n",
        "    * **如果 `index` 或 `rindex` 未能找到子字串的出現位置**，**它不會返回 -1**，而是會引發 **`ValueError` 異常**。"
      ]
    },
    {
      "cell_type": "code",
      "execution_count": null,
      "metadata": {
        "id": "gWlbDaHA2BDF"
      },
      "outputs": [],
      "source": [
        "x = \"Mississippi\"\n",
        "x.index(\"Hello\")"
      ]
    },
    {
      "cell_type": "code",
      "execution_count": null,
      "metadata": {
        "id": "H2vb61Xi2BDF"
      },
      "outputs": [],
      "source": [
        "x = \"Mississippi\"\n",
        "x.find(\"Hello\")"
      ]
    },
    {
      "cell_type": "markdown",
      "metadata": {
        "id": "oTfN7RaW2BDF"
      },
      "source": [
        "### startswith() and endswith()"
      ]
    },
    {
      "cell_type": "code",
      "execution_count": null,
      "metadata": {
        "id": "2vEp5g2M2BDF"
      },
      "outputs": [],
      "source": [
        "x = \"Mississippi\"\n",
        "print(x.startswith(\"Miss\"))\n",
        "print(x.startswith(\"Mist\"))\n",
        "print(x.endswith(\"pi\"))\n",
        "print(x.endswith(\"p\"))\n",
        "print(x.endswith((\"i\", \"u\")))"
      ]
    },
    {
      "cell_type": "markdown",
      "metadata": {
        "id": "pouI0QU92BDF"
      },
      "source": [
        "### 修改“不可變”字串\n",
        "\n",
        "* 對該字串進行操作並返回一個新字串"
      ]
    },
    {
      "cell_type": "code",
      "execution_count": null,
      "metadata": {
        "id": "k842eCQO2BDF"
      },
      "outputs": [],
      "source": [
        "x = \"Mississippi\"\n",
        "print(x.replace(\"ss\", \"++\"))"
      ]
    },
    {
      "cell_type": "markdown",
      "metadata": {
        "id": "Pep8uMg22BDF"
      },
      "source": [
        "### Other useful methods"
      ]
    },
    {
      "cell_type": "code",
      "execution_count": null,
      "metadata": {
        "id": "gl4kulqP2BDF"
      },
      "outputs": [],
      "source": [
        "x = \"123\"\n",
        "print(x.isdigit())\n",
        "print(x.isalpha())\n",
        "x = \"M\"\n",
        "print(x.islower())\n",
        "print(x.isupper())"
      ]
    },
    {
      "cell_type": "markdown",
      "metadata": {
        "id": "vSiSA5qz2BDG"
      },
      "source": [
        "## 將物件轉換為字串\n",
        "\n",
        "* `repr` function\n",
        "    * 幾乎所有物件都可以轉換為字串表示形式\n",
        "    * 返回一個描述該物件的字串"
      ]
    },
    {
      "cell_type": "code",
      "execution_count": null,
      "metadata": {
        "id": "B37kMf1A2BDG"
      },
      "outputs": [],
      "source": [
        "x = [1]\n",
        "x.append(2)\n",
        "x.append([3, 4])\n",
        "print('the list x is ' + repr(x))"
      ]
    },
    {
      "cell_type": "code",
      "execution_count": null,
      "metadata": {
        "id": "rcmn3of82BDG"
      },
      "outputs": [],
      "source": [
        "repr(len)"
      ]
    },
    {
      "cell_type": "markdown",
      "metadata": {
        "id": "PJG-h5vQ2BDG"
      },
      "source": [
        "### 對於除錯程式非常有用：`str` 和 `repr`\n",
        "\n",
        "* **`str` 函數** 返回一個字串\n",
        "* **`repr` 函數** 返回 Python 物件的正式字串表示形式。（更像是電腦語言）"
      ]
    },
    {
      "cell_type": "code",
      "execution_count": null,
      "metadata": {
        "id": "IW9sDIxo2BDG"
      },
      "outputs": [],
      "source": [
        "from datetime import datetime\n",
        "now = datetime.now()\n",
        "print(str(now))\n",
        "print(repr(now))"
      ]
    },
    {
      "cell_type": "markdown",
      "metadata": {
        "id": "DCkZ28382BDG"
      },
      "source": [
        "## Quick practice\n",
        "* Q1. remove double quotes in x"
      ]
    },
    {
      "cell_type": "code",
      "execution_count": null,
      "metadata": {
        "id": "AIK2UWp42BDG"
      },
      "outputs": [],
      "source": [
        "x = ['\"abc\"', 'def', '\"ghi\"', '\"klm\"', 'nop']"
      ]
    },
    {
      "cell_type": "code",
      "execution_count": null,
      "metadata": {
        "id": "9yc95kMP2BDG"
      },
      "outputs": [],
      "source": [
        "# Answer:"
      ]
    },
    {
      "cell_type": "markdown",
      "metadata": {
        "id": "6Equq6Lv2BDG"
      },
      "source": [
        "* Q2. find the last of p in Mississippi, print the position, and remove this p"
      ]
    },
    {
      "cell_type": "code",
      "execution_count": null,
      "metadata": {
        "id": "sUCuCmWS2BDG"
      },
      "outputs": [],
      "source": [
        "state = \"Mississippi\""
      ]
    },
    {
      "cell_type": "code",
      "execution_count": null,
      "metadata": {
        "id": "rGOtzxOD2BDG"
      },
      "outputs": [],
      "source": [
        "# Answer:"
      ]
    },
    {
      "cell_type": "markdown",
      "metadata": {
        "id": "H5LT_Nfg2BDG"
      },
      "source": [
        "## Summary\n",
        "\n",
        "* 字串是**不可變**的。\n",
        "* 強大的文字處理功能：**searching and replacing, trimming characters, and changing case**。"
      ]
    },
    {
      "cell_type": "markdown",
      "metadata": {
        "id": "JlwRza7c2BDG"
      },
      "source": [
        "# 4. Dictionaries. Outline\n",
        "\n",
        "1. What's a dictionary / 什麼是字典\n",
        "2. Using dictionary operations / 使用字典操作\n",
        "3. Determining what can be used as a key / 確定什麼可以用作鍵\n",
        "4. Sparse matrices / 稀疏矩陣"
      ]
    },
    {
      "cell_type": "markdown",
      "metadata": {
        "id": "u1eVQbWO2BDG"
      },
      "source": [
        "## What's a dictionary? / 什麼是字典？\n",
        "\n",
        "* 關聯數組(arrays)、哈希表(hash tables)，或**將一組物件映射到相關值的方式**\n",
        "    * 使用方式：`{key1: value1, key2: value2}`"
      ]
    },
    {
      "cell_type": "code",
      "execution_count": null,
      "metadata": {
        "id": "cvxzSiBh2BDG"
      },
      "outputs": [],
      "source": [
        "ages = {\"Tim\":36, \"Tony\":32, \"Manu\":36} # key should be unique.\n",
        "print(ages[\"Tim\"]) # get value"
      ]
    },
    {
      "cell_type": "code",
      "execution_count": null,
      "metadata": {
        "id": "brlRnzwM2BDG"
      },
      "outputs": [],
      "source": [
        "# add new key\n",
        "ages[\"Pop\"] = 70\n",
        "print(ages)"
      ]
    },
    {
      "cell_type": "code",
      "execution_count": null,
      "metadata": {
        "id": "xdf6Y_9j2BDG"
      },
      "outputs": [],
      "source": [
        "# Dictionary mapping gene names to their sequences\n",
        "genes = {\n",
        "    \"Spike\": \"ATGCTAGCTAGGCTA\",\n",
        "    \"Envelope\": \"CGTACGTCGATCGTA\",\n",
        "    \"Membrane\": \"GCTAGCTAGGCTAAT\"\n",
        "}\n",
        "\n",
        "# Access the sequence of the Spike gene\n",
        "print(f\"Spike gene sequence: {genes['Spike']}\")"
      ]
    },
    {
      "cell_type": "markdown",
      "metadata": {
        "id": "VWIx6Kzs2BDG"
      },
      "source": [
        "### Dictionary v.s. List\n",
        "\n",
        "* **兩者都可以存儲任何類型的物件。**\n",
        "* **lists中的值** 通過索引訪問，按位置排序。\n",
        "* **Dictionaries** 通過keys訪問值。"
      ]
    },
    {
      "cell_type": "code",
      "execution_count": null,
      "metadata": {
        "id": "FZcknX2x2BDG"
      },
      "outputs": [],
      "source": [
        "# An empty dictionary is created much like an empty list,\n",
        "# but with **curly braces** instead of **square brackets**.\n",
        "x = [] # I'm an empty list\n",
        "y = {} # I'm an empty dictionary"
      ]
    },
    {
      "cell_type": "markdown",
      "metadata": {
        "id": "hE5pn-af2BDG"
      },
      "source": [
        "* **看起來非常像列表。**"
      ]
    },
    {
      "cell_type": "code",
      "execution_count": null,
      "metadata": {
        "id": "EGtULNsM2BDG"
      },
      "outputs": [],
      "source": [
        "y[\"two\"] = 2\n",
        "y[\"pi\"] = 3.14\n",
        "y[\"two\"] * y[\"pi\"]"
      ]
    },
    {
      "cell_type": "markdown",
      "metadata": {
        "id": "bli6Jxmz2BDG"
      },
      "source": [
        "## Useful dictionary operations"
      ]
    },
    {
      "cell_type": "code",
      "execution_count": null,
      "metadata": {
        "id": "5oMFAFnp2BDG"
      },
      "outputs": [],
      "source": [
        "english_to_french = {}\n",
        "english_to_french['red'] = 'rouge'\n",
        "english_to_french['blue'] = 'bleu'\n",
        "english_to_french['green'] = 'vert'\n",
        "print(\"red is\", english_to_french['red'])"
      ]
    },
    {
      "cell_type": "code",
      "execution_count": null,
      "metadata": {
        "id": "6dLWBZS32BDG"
      },
      "outputs": [],
      "source": [
        "# the length of dictionary\n",
        "len(english_to_french)"
      ]
    },
    {
      "cell_type": "code",
      "execution_count": null,
      "metadata": {
        "id": "wXX0g4sg2BDG"
      },
      "outputs": [],
      "source": [
        "# list of the keys\n",
        "list(english_to_french.keys())"
      ]
    },
    {
      "cell_type": "code",
      "execution_count": null,
      "metadata": {
        "id": "cZMI4Srv2BDG"
      },
      "outputs": [],
      "source": [
        "# list of the values\n",
        "list(english_to_french.values())"
      ]
    },
    {
      "cell_type": "code",
      "execution_count": null,
      "metadata": {
        "id": "C_BP51_L2BDG"
      },
      "outputs": [],
      "source": [
        "# list of the items\n",
        "list(english_to_french.items())"
      ]
    },
    {
      "cell_type": "markdown",
      "metadata": {
        "id": "yuFrwtVF2BDG"
      },
      "source": [
        "* **del 語句：從dictionary中刪除一個條目（as a key-value pair）。**"
      ]
    },
    {
      "cell_type": "code",
      "execution_count": null,
      "metadata": {
        "id": "kqMxP7Ob2BDH"
      },
      "outputs": [],
      "source": [
        "list(english_to_french.items())\n",
        "print(english_to_french)\n",
        "del english_to_french['blue']\n",
        "list(english_to_french.items())\n",
        "print(english_to_french)"
      ]
    },
    {
      "cell_type": "markdown",
      "metadata": {
        "id": "uYrQ_aUW2BDH"
      },
      "source": [
        "* Iterable like sequences"
      ]
    },
    {
      "cell_type": "code",
      "execution_count": null,
      "metadata": {
        "id": "nB-Zwqic2BDH"
      },
      "outputs": [],
      "source": [
        "'red' in english_to_french"
      ]
    },
    {
      "cell_type": "code",
      "execution_count": null,
      "metadata": {
        "id": "kRoPCmsT2BDH"
      },
      "outputs": [],
      "source": [
        "'orange' in english_to_french"
      ]
    },
    {
      "cell_type": "markdown",
      "metadata": {
        "id": "ZEEPAFeL2BDH"
      },
      "source": [
        "* **get function**\n",
        "    * **返回與鍵相關聯的值**（如果找到）\n",
        "    * **如果未找到，返回第二個參數（可選）或 None**"
      ]
    },
    {
      "cell_type": "code",
      "execution_count": null,
      "metadata": {
        "id": "ZvzlOhwF2BDH"
      },
      "outputs": [],
      "source": [
        "print(english_to_french.get('blue', 'No translation'))"
      ]
    },
    {
      "cell_type": "code",
      "execution_count": null,
      "metadata": {
        "id": "1seTn3cV2BDH"
      },
      "outputs": [],
      "source": [
        "print(english_to_french.get('chartreuse', 'No translation'))"
      ]
    },
    {
      "cell_type": "code",
      "execution_count": null,
      "metadata": {
        "id": "q4uSWDUr2BDH"
      },
      "outputs": [],
      "source": [
        "print(english_to_french.get('blue'))"
      ]
    },
    {
      "cell_type": "markdown",
      "metadata": {
        "id": "BtdoqR1E2BDH"
      },
      "source": [
        "* Copy method"
      ]
    },
    {
      "cell_type": "code",
      "execution_count": null,
      "metadata": {
        "id": "6RK8syBb2BDH"
      },
      "outputs": [],
      "source": [
        "x = {0: 'zero', 1: 'one'}\n",
        "y = x.copy()\n",
        "print(y)"
      ]
    },
    {
      "cell_type": "markdown",
      "metadata": {
        "id": "uSmhmEwA2BDH"
      },
      "source": [
        "* **Update method**\n",
        "    * **使用第二個dictionary的所有key值對來更新第一個dictionary。**"
      ]
    },
    {
      "cell_type": "code",
      "execution_count": null,
      "metadata": {
        "id": "HYvklf0t2BDH"
      },
      "outputs": [],
      "source": [
        "z = {1: 'One', 2: 'Two'}\n",
        "x = {0: 'zero', 1: '1'}\n",
        "x.update(z)\n",
        "print(x)"
      ]
    },
    {
      "cell_type": "markdown",
      "metadata": {
        "id": "OWjqkSTR2BDH"
      },
      "source": [
        "### Word counting"
      ]
    },
    {
      "cell_type": "code",
      "execution_count": null,
      "metadata": {
        "id": "9h2X8-n42BDH"
      },
      "outputs": [],
      "source": [
        "## a list of words and one word per line\n",
        "sample_string = \"To be or not to be\"\n",
        "occurrences = {}\n",
        "for word in sample_string.split():\n",
        "    occurrences[word] = occurrences.get(word, 0) + 1\n",
        "for word in occurrences:\n",
        "    print(\"The word\", word, \"occurs\", occurrences[word], \"times in the string\")"
      ]
    },
    {
      "cell_type": "markdown",
      "metadata": {
        "id": "eH61deQB2BDH"
      },
      "source": [
        "## What can be used as a key?\n",
        "\n",
        "* **任何不可變且可哈希的物件**\n",
        "    * **數字是不可變的。**\n",
        "    * **列表是可變的，可以添加、修改或刪除。**\n",
        "    * **元組是不可變的列表，但包含可變值的元組是不可哈希的。**"
      ]
    },
    {
      "cell_type": "markdown",
      "metadata": {
        "id": "nfpxLky32BDH"
      },
      "source": [
        "### Quick practice: WHAT CAN BE A KEY?\n",
        "\n",
        "* 1\n",
        "* 'hello'\n",
        "* ('hello', \\[1, 2, 3\\])\n",
        "* \\[\"hello-world\"\\]\n",
        "* \"hello\"\n",
        "* (\"hello\", \"world\")    "
      ]
    },
    {
      "cell_type": "markdown",
      "metadata": {
        "id": "b08Nc0X42BDH"
      },
      "source": [
        "* Answer:\n",
        "    * -\n",
        "    * -\n",
        "    * -\n",
        "    * -\n",
        "    * -\n",
        "    * -"
      ]
    },
    {
      "cell_type": "markdown",
      "metadata": {
        "id": "XTEYmT9l2BDH"
      },
      "source": [
        "## Sparse matrices / 稀疏矩陣\n",
        "* **Matrix**: 用方括號表示的二維數字網格"
      ]
    },
    {
      "cell_type": "code",
      "execution_count": null,
      "metadata": {
        "id": "MU3Tt5nM2BDH"
      },
      "outputs": [],
      "source": [
        "matrix = [[2, 0, -1, 1], [0, 8, 0, 0], [0, 8, 0, 0], [0, 0, 0, 0]]\n",
        "print(matrix)"
      ]
    },
    {
      "cell_type": "markdown",
      "metadata": {
        "id": "XZtqdae12BDH"
      },
      "source": [
        "* matrix中的元素由行和列號訪問："
      ]
    },
    {
      "cell_type": "code",
      "execution_count": null,
      "metadata": {
        "id": "XCpTCBof2BDH"
      },
      "outputs": [],
      "source": [
        "matrix[0][0]"
      ]
    },
    {
      "cell_type": "markdown",
      "metadata": {
        "id": "h1KftOlB2BDH"
      },
      "source": [
        "* 使用帶有元組索引的dictionary表示Sparse matrices"
      ]
    },
    {
      "cell_type": "code",
      "execution_count": null,
      "metadata": {
        "id": "KZRwhMls2BDH"
      },
      "outputs": [],
      "source": [
        "matrix = {(0, 0): 2, (0, 2): -1, (0, 3): 1, (1, 1): 8, (2, 1): 8}"
      ]
    },
    {
      "cell_type": "code",
      "execution_count": null,
      "metadata": {
        "id": "fBHEqwS92BDH"
      },
      "outputs": [],
      "source": [
        "rownum = 0\n",
        "colnum = 2\n",
        "print(matrix[(rownum, colnum)])"
      ]
    },
    {
      "cell_type": "code",
      "execution_count": null,
      "metadata": {
        "id": "1b2SszIy2BDH"
      },
      "outputs": [],
      "source": [
        "# Representing a sparse matrix of gene expression levels\n",
        "# Keys are (gene, condition), values are expression levels\n",
        "expression_matrix = {\n",
        "    (\"Gene1\", \"ConditionA\"): 2.5,\n",
        "    (\"Gene1\", \"ConditionB\"): 0.0,\n",
        "    (\"Gene2\", \"ConditionA\"): 0.8,\n",
        "    (\"Gene2\", \"ConditionB\"): 1.5\n",
        "}\n",
        "\n",
        "# Accessing a specific expression value\n",
        "print(f\"Gene1 expression in ConditionA: {expression_matrix[('Gene1', 'ConditionA')]}\")"
      ]
    },
    {
      "cell_type": "markdown",
      "metadata": {
        "id": "1iLnxzJS2BDH"
      },
      "source": [
        "## Brief summary\n",
        "* **Dictionary的keys必須是不可變的。**\n",
        "* **使用keys來訪問數據集合（例如matrix）將比許多其他解決方案更簡單（代碼更少）。**"
      ]
    }
  ],
  "metadata": {
    "language_info": {
      "name": "python"
    },
    "colab": {
      "provenance": [],
      "include_colab_link": true
    }
  },
  "nbformat": 4,
  "nbformat_minor": 0
}